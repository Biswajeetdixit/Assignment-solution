{
 "cells": [
  {
   "cell_type": "markdown",
   "id": "e8fce287-478f-46ba-b51b-b8681ccda336",
   "metadata": {},
   "source": [
    "Q1. Which keyword is used to create a function? Create a function to return a list of odd numbers in the\n",
    "range of 1 to 25."
   ]
  },
  {
   "cell_type": "code",
   "execution_count": 1,
   "id": "3fd98e58-4ea0-4a43-8ab9-696e2c6090d3",
   "metadata": {},
   "outputs": [
    {
     "name": "stdout",
     "output_type": "stream",
     "text": [
      "List of odd numbers: [1, 3, 5, 7, 9, 11, 13, 15, 17, 19, 21, 23, 25]\n"
     ]
    }
   ],
   "source": [
    "def get_odd_numbers():\n",
    "    odd_numbers = []\n",
    "    for num in range(1, 26):\n",
    "        if num % 2 != 0:\n",
    "            odd_numbers.append(num)\n",
    "    return odd_numbers\n",
    "\n",
    "# Call the function and print the result\n",
    "print(\"List of odd numbers:\", get_odd_numbers())\n"
   ]
  },
  {
   "cell_type": "markdown",
   "id": "516931ac-10c2-4ec9-b102-732071f96deb",
   "metadata": {},
   "source": [
    "Q2. Why *args and **kwargs is used in some functions? Create a function each for *args and **kwargs\n",
    "to demonstrate their use."
   ]
  },
  {
   "cell_type": "code",
   "execution_count": 2,
   "id": "4ad11352-5fd4-4930-bed5-354f002178b8",
   "metadata": {},
   "outputs": [
    {
     "name": "stdout",
     "output_type": "stream",
     "text": [
      "Sum of numbers: 15\n",
      "name: John\n",
      "age: 30\n",
      "city: New York\n"
     ]
    }
   ],
   "source": [
    "# Function using *args to sum up the numbers\n",
    "def sum_numbers(*args):\n",
    "    total = 0\n",
    "    for num in args:\n",
    "        total += num\n",
    "    return total\n",
    "\n",
    "# Function using **kwargs to display key-value pairs\n",
    "def display_info(**kwargs):\n",
    "    for key, value in kwargs.items():\n",
    "        print(f\"{key}: {value}\")\n",
    "\n",
    "# Demonstration\n",
    "# Using *args\n",
    "print(\"Sum of numbers:\", sum_numbers(1, 2, 3, 4, 5))\n",
    "\n",
    "# Using **kwargs\n",
    "display_info(name=\"John\", age=30, city=\"New York\")\n"
   ]
  },
  {
   "cell_type": "markdown",
   "id": "41f061d7-c361-44c1-857c-fd7279a58173",
   "metadata": {},
   "source": [
    "Q3. What is an iterator in python? Name the method used to initialise the iterator object and the method\n",
    "used for iteration. Use these methods to print the first five elements of the given list [2, 4, 6, 8, 10, 12, 14,\n",
    "16, 18, 20]."
   ]
  },
  {
   "cell_type": "code",
   "execution_count": 3,
   "id": "6d8106f4-7970-4c6f-a054-f8291f8d78c9",
   "metadata": {},
   "outputs": [
    {
     "name": "stdout",
     "output_type": "stream",
     "text": [
      "2\n",
      "4\n",
      "6\n",
      "8\n",
      "10\n"
     ]
    }
   ],
   "source": [
    "# Define the list\n",
    "my_list = [2, 4, 6, 8, 10, 12, 14, 16, 18, 20]\n",
    "\n",
    "# Initialize the iterator object\n",
    "my_iter = iter(my_list)\n",
    "\n",
    "# Iterate using the iterator\n",
    "for _ in range(5):\n",
    "    try:\n",
    "        # Get the next element from the iterator\n",
    "        element = next(my_iter)\n",
    "        print(element)\n",
    "    except StopIteration:\n",
    "        # If there are no more elements, break the loop\n",
    "        break\n"
   ]
  },
  {
   "cell_type": "markdown",
   "id": "b187d705-8060-4070-a754-6f8579566127",
   "metadata": {},
   "source": [
    "Q4. What is a generator function in python? Why yield keyword is used? Give an example of a generator\n",
    "function."
   ]
  },
  {
   "cell_type": "code",
   "execution_count": 4,
   "id": "a76522a3-ead1-4f00-8ea6-45b5c7cc8891",
   "metadata": {},
   "outputs": [
    {
     "name": "stdout",
     "output_type": "stream",
     "text": [
      "0\n",
      "2\n",
      "4\n",
      "6\n",
      "8\n"
     ]
    }
   ],
   "source": [
    "def generate_even_numbers(limit):\n",
    "    num = 0\n",
    "    while num < limit:\n",
    "        yield num\n",
    "        num += 2\n",
    "\n",
    "# Using the generator function\n",
    "for even_num in generate_even_numbers(10):\n",
    "    print(even_num)\n"
   ]
  },
  {
   "cell_type": "markdown",
   "id": "68a602aa-ff08-409d-b69b-72d38f5573d7",
   "metadata": {},
   "source": [
    "Q5. Create a generator function for prime numbers less than 1000. Use the next() method to print the\n",
    "first 20 prime numbers."
   ]
  },
  {
   "cell_type": "code",
   "execution_count": 5,
   "id": "be92cb00-bfde-4a3c-b06f-d400293081b0",
   "metadata": {},
   "outputs": [
    {
     "name": "stdout",
     "output_type": "stream",
     "text": [
      "2\n",
      "3\n",
      "5\n",
      "7\n",
      "11\n",
      "13\n",
      "17\n",
      "19\n",
      "23\n",
      "29\n",
      "31\n",
      "37\n",
      "41\n",
      "43\n",
      "47\n",
      "53\n",
      "59\n",
      "61\n",
      "67\n",
      "71\n"
     ]
    }
   ],
   "source": [
    "def is_prime(num):\n",
    "    if num <= 1:\n",
    "        return False\n",
    "    for i in range(2, int(num ** 0.5) + 1):\n",
    "        if num % i == 0:\n",
    "            return False\n",
    "    return True\n",
    "\n",
    "def generate_prime_numbers():\n",
    "    num = 2\n",
    "    while num < 1000:\n",
    "        if is_prime(num):\n",
    "            yield num\n",
    "        num += 1\n",
    "\n",
    "# Using the generator function to print the first 20 prime numbers\n",
    "prime_gen = generate_prime_numbers()\n",
    "for _ in range(20):\n",
    "    print(next(prime_gen))\n"
   ]
  },
  {
   "cell_type": "markdown",
   "id": "0fbf7316-8374-4dac-bcb6-caf574eff44a",
   "metadata": {},
   "source": [
    "Q6. Write a python program to print the first 10 Fibonacci numbers using a while loop."
   ]
  },
  {
   "cell_type": "code",
   "execution_count": 6,
   "id": "f9af6f40-a685-4775-b45d-c111f42ba763",
   "metadata": {},
   "outputs": [
    {
     "name": "stdout",
     "output_type": "stream",
     "text": [
      "0\n",
      "1\n",
      "2\n",
      "3\n",
      "5\n",
      "8\n",
      "13\n",
      "21\n",
      "34\n",
      "55\n"
     ]
    }
   ],
   "source": [
    "# Function to print the first n Fibonacci numbers\n",
    "def print_fibonacci(n):\n",
    "    # Initialize variables for the first two Fibonacci numbers\n",
    "    a, b = 0, 1\n",
    "    \n",
    "    # Print the first Fibonacci number (0)\n",
    "    print(a)\n",
    "    \n",
    "    # Initialize counter to keep track of the number of Fibonacci numbers printed\n",
    "    count = 1\n",
    "    \n",
    "    # Use a while loop to generate and print the next Fibonacci numbers\n",
    "    while count < n:\n",
    "        # Compute the next Fibonacci number\n",
    "        fib = a + b\n",
    "        \n",
    "        # Print the Fibonacci number\n",
    "        print(fib)\n",
    "        \n",
    "        # Update the values of a and b for the next iteration\n",
    "        a, b = b, fib\n",
    "        \n",
    "        # Increment the counter\n",
    "        count += 1\n",
    "\n",
    "# Print the first 10 Fibonacci numbers\n",
    "print_fibonacci(10)\n"
   ]
  },
  {
   "cell_type": "markdown",
   "id": "064706f8-9561-4c00-b743-b70582d69518",
   "metadata": {},
   "source": [
    "Q7. Write a List Comprehension to iterate through the given string: ‘pwskills’.\n",
    "Expected output: ['p', 'w', 's', 'k', 'i', 'l', 'l', 's']"
   ]
  },
  {
   "cell_type": "code",
   "execution_count": 7,
   "id": "cc6b5104-6028-4a3a-aa5a-bd90b14ee090",
   "metadata": {},
   "outputs": [
    {
     "name": "stdout",
     "output_type": "stream",
     "text": [
      "['p', 'w', 's', 'k', 'i', 'l', 'l', 's']\n"
     ]
    }
   ],
   "source": [
    "# Given string\n",
    "string = 'pwskills'\n",
    "\n",
    "# List comprehension to iterate through the string and create a list of characters\n",
    "result = [char for char in string]\n",
    "\n",
    "# Print the result\n",
    "print(result)\n"
   ]
  },
  {
   "cell_type": "code",
   "execution_count": null,
   "id": "d0dcffed-eb1d-4e9b-b9e7-24794039d50b",
   "metadata": {},
   "outputs": [],
   "source": []
  }
 ],
 "metadata": {
  "kernelspec": {
   "display_name": "Python 3 (ipykernel)",
   "language": "python",
   "name": "python3"
  },
  "language_info": {
   "codemirror_mode": {
    "name": "ipython",
    "version": 3
   },
   "file_extension": ".py",
   "mimetype": "text/x-python",
   "name": "python",
   "nbconvert_exporter": "python",
   "pygments_lexer": "ipython3",
   "version": "3.10.8"
  }
 },
 "nbformat": 4,
 "nbformat_minor": 5
}
