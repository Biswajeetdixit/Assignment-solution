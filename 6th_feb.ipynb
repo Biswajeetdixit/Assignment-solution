{
 "cells": [
  {
   "cell_type": "markdown",
   "id": "b1eda8d9-82a7-4e7a-a6a6-7331cdd4ecd0",
   "metadata": {},
   "source": [
    "Q1. Create a function which will take a list as an argument and return the product of all the numbers\n",
    "after creating a flat list.\n",
    "Use the below-given list as an argument for your function.\n",
    "list1 = [1,2,3,4, [44,55,66, True], False, (34,56,78,89,34), {1,2,3,3,2,1}, {1:34, \"key2\": [55, 67, 78, 89], 4: (45,\n",
    "22, 61, 34)}, [56, 'data science'], 'Machine Learning']\n",
    "Note: you must extract numeric keys and values of the dictionary also."
   ]
  },
  {
   "cell_type": "code",
   "execution_count": 3,
   "id": "8b4267e1-6b28-4c51-b075-23ae9a81a5f6",
   "metadata": {},
   "outputs": [
    {
     "name": "stdout",
     "output_type": "stream",
     "text": [
      "Product of all numbers in the list: 0\n"
     ]
    }
   ],
   "source": [
    "def flatten_and_multiply(lst):\n",
    "    flat_list = []\n",
    "\n",
    "    # Function to flatten the nested list and extract numeric values from dictionaries\n",
    "    def flatten(lst):\n",
    "        for item in lst:\n",
    "            if isinstance(item, (list, tuple)):\n",
    "                flatten(item)\n",
    "            elif isinstance(item, dict):\n",
    "                flatten(item.values())\n",
    "                flatten(item.keys())\n",
    "            elif isinstance(item, (int, float)):\n",
    "                flat_list.append(item)\n",
    "\n",
    "    # Call the flatten function to extract numeric values\n",
    "    flatten(lst)\n",
    "\n",
    "    # Calculate the product of all numbers in the flat list\n",
    "    product = 1\n",
    "    for num in flat_list:\n",
    "        product *= num\n",
    "\n",
    "    return product\n",
    "\n",
    "# Given list\n",
    "list1 = [1, 2, 3, 4, [44, 55, 66, True], False, (34, 56, 78, 89, 34), {1, 2, 3, 3, 2, 1}, \n",
    "         {1: 34, \"key2\": [55, 67, 78, 89], 4: (45, 22, 61, 34)}, [56, 'data science'], 'Machine Learning']\n",
    "\n",
    "# Call the function and print the result\n",
    "result = flatten_and_multiply(list1)\n",
    "print(\"Product of all numbers in the list:\", result)\n",
    "\n",
    "\n",
    "\n",
    "\n"
   ]
  },
  {
   "cell_type": "markdown",
   "id": "9adc1200-a74e-41e4-976c-02bb6c2c68a7",
   "metadata": {},
   "source": [
    "Q2. Write a python program for encrypting a message sent to you by your friend. The logic of encryption\n",
    "should be such that, for a the output should be z. For b, the output should be y. For c, the output should\n",
    "be x respectively. Also, the whitespace should be replaced with a dollar sign. Keep the punctuation\n",
    "marks unchanged.\n",
    "Input Sentence: I want to become a Data Scientist.\n",
    "Encrypt the above input sentence using the program you just created.\n",
    "Note: Convert the given input sentence into lowercase before encrypting. The final output should be\n",
    "lowercase."
   ]
  },
  {
   "cell_type": "code",
   "execution_count": null,
   "id": "213ff905-187f-4c2e-8cb8-c5e723c7f842",
   "metadata": {},
   "outputs": [],
   "source": []
  }
 ],
 "metadata": {
  "kernelspec": {
   "display_name": "Python 3 (ipykernel)",
   "language": "python",
   "name": "python3"
  },
  "language_info": {
   "codemirror_mode": {
    "name": "ipython",
    "version": 3
   },
   "file_extension": ".py",
   "mimetype": "text/x-python",
   "name": "python",
   "nbconvert_exporter": "python",
   "pygments_lexer": "ipython3",
   "version": "3.10.8"
  }
 },
 "nbformat": 4,
 "nbformat_minor": 5
}
