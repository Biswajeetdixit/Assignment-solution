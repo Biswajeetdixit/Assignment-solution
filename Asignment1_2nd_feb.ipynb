{
 "cells": [
  {
   "cell_type": "markdown",
   "id": "0ff77e2d-a0c0-43d2-9995-1abc871a2013",
   "metadata": {},
   "source": [
    "Q1. Explain with an example each when to use a for loop and a while loop."
   ]
  },
  {
   "cell_type": "code",
   "execution_count": 1,
   "id": "90b6c766-984f-463d-9abd-e6ea643b6f71",
   "metadata": {},
   "outputs": [
    {
     "name": "stdout",
     "output_type": "stream",
     "text": [
      "Total apples in the basket: 10\n",
      "Eating an apple...\n",
      "Eating an apple...\n",
      "Eating an apple...\n",
      "Eating an apple...\n",
      "Eating an apple...\n",
      "Eating an apple...\n",
      "Eating an apple...\n",
      "Eating an apple...\n",
      "Eating an apple...\n",
      "Eating an apple...\n",
      "No more apples left in the basket.\n"
     ]
    },
    {
     "data": {
      "text/plain": [
       "'Summary:\\n\\nFor Loop: Use it when you know how many times you need to do something, like counting a known number of apples.\\nWhile Loop: Use it when you need to do something until a condition is met, like eating apples until there are none left.'"
      ]
     },
     "execution_count": 1,
     "metadata": {},
     "output_type": "execute_result"
    }
   ],
   "source": [
    "total_apples = 0\n",
    "for apple in range(1, 11):\n",
    "    total_apples += 1\n",
    "print(\"Total apples in the basket:\", total_apples)\n",
    "'''While Loop Example:\n",
    "Now, suppose you're eating apples from that same basket until it's empty. You don't know how many apples\n",
    "are there initially, but you keep eating until you find there are no more apples left.'''\n",
    "\n",
    "\n",
    "\n",
    "apples_left = 10\n",
    "while apples_left > 0:\n",
    "    print(\"Eating an apple...\")\n",
    "    apples_left -= 1\n",
    "print(\"No more apples left in the basket.\")\n",
    "\n",
    "'''Summary:\n",
    "\n",
    "For Loop: Use it when you know how many times you need to do something, like counting a known number of apples.\n",
    "While Loop: Use it when you need to do something until a condition is met, like eating apples until there are none left.'''"
   ]
  },
  {
   "cell_type": "markdown",
   "id": "7ffca9c6-8662-4a02-8c36-a58bb50b3421",
   "metadata": {},
   "source": [
    "Q2. Write a python program to print the sum and product of the first 10 natural numbers using for\n",
    "and while loop."
   ]
  },
  {
   "cell_type": "code",
   "execution_count": 2,
   "id": "6b8de7c1-cc5b-4df4-b5d7-5a49e1a55267",
   "metadata": {},
   "outputs": [
    {
     "name": "stdout",
     "output_type": "stream",
     "text": [
      "Sum of the first 10 natural numbers: 55\n",
      "Product of the first 10 natural numbers: 3628800\n"
     ]
    }
   ],
   "source": [
    "# Using for loop to calculate sum and product of the first 10 natural numbers\n",
    "\n",
    "# Initializing variables to store sum and product\n",
    "sum_of_numbers = 0\n",
    "product_of_numbers = 1\n",
    "\n",
    "# Using for loop to iterate over the first 10 natural numbers\n",
    "for num in range(1, 11):\n",
    "    sum_of_numbers += num\n",
    "    product_of_numbers *= num\n",
    "\n",
    "# Printing the sum and product\n",
    "print(\"Sum of the first 10 natural numbers:\", sum_of_numbers)\n",
    "print(\"Product of the first 10 natural numbers:\", product_of_numbers)\n"
   ]
  },
  {
   "cell_type": "code",
   "execution_count": 3,
   "id": "2e9e4fe2-44f8-4ad3-970b-7397314ba5a0",
   "metadata": {},
   "outputs": [
    {
     "name": "stdout",
     "output_type": "stream",
     "text": [
      "Sum of the first 10 natural numbers: 55\n",
      "Product of the first 10 natural numbers: 3628800\n"
     ]
    }
   ],
   "source": [
    "# Using while loop to calculate sum and product of the first 10 natural numbers\n",
    "\n",
    "# Initializing variables to store sum and product\n",
    "sum_of_numbers = 0\n",
    "product_of_numbers = 1\n",
    "\n",
    "# Initializing variable to keep track of current number\n",
    "num = 1\n",
    "\n",
    "# Using while loop to iterate until the first 10 natural numbers\n",
    "while num <= 10:\n",
    "    sum_of_numbers += num\n",
    "    product_of_numbers *= num\n",
    "    num += 1\n",
    "\n",
    "# Printing the sum and product\n",
    "print(\"Sum of the first 10 natural numbers:\", sum_of_numbers)\n",
    "print(\"Product of the first 10 natural numbers:\", product_of_numbers)\n"
   ]
  },
  {
   "cell_type": "markdown",
   "id": "56db76e6-d9c2-40ab-b0e2-9b5db6d5df48",
   "metadata": {},
   "source": [
    "Q3. Create a python program to compute the electricity bill for a household.\n",
    "The per-unit charges in rupees are as follows: For the first 100 units, the user will be charged Rs. 4.5 per\n",
    "unit, for the next 100 units, the user will be charged Rs. 6 per unit, and for the next 100 units, the user will\n",
    "be charged Rs. 10 per unit, After 300 units and above the user will be charged Rs. 20 per unit."
   ]
  },
  {
   "cell_type": "code",
   "execution_count": 4,
   "id": "67369871-340b-4f4a-a2ce-63d888b6bc62",
   "metadata": {},
   "outputs": [
    {
     "name": "stdin",
     "output_type": "stream",
     "text": [
      "Enter the number of units consumed:  4\n"
     ]
    },
    {
     "name": "stdout",
     "output_type": "stream",
     "text": [
      "Electricity bill amount: Rs. 18.0\n"
     ]
    }
   ],
   "source": [
    "def calculate_electricity_bill(units):\n",
    "    total_bill = 0\n",
    "    \n",
    "    # For the first 100 units\n",
    "    if units <= 100:\n",
    "        total_bill = units * 4.5\n",
    "    else:\n",
    "        total_bill += 100 * 4.5\n",
    "        units -= 100\n",
    "        \n",
    "        # For the next 100 units\n",
    "        if units <= 100:\n",
    "            total_bill += units * 6\n",
    "        else:\n",
    "            total_bill += 100 * 6\n",
    "            units -= 100\n",
    "            \n",
    "            # For the next 100 units\n",
    "            if units <= 100:\n",
    "                total_bill += units * 10\n",
    "            else:\n",
    "                total_bill += 100 * 10\n",
    "                units -= 100\n",
    "                \n",
    "                # For units above 300\n",
    "                total_bill += units * 20\n",
    "\n",
    "    return total_bill\n",
    "\n",
    "# Main program\n",
    "def main():\n",
    "    units_consumed = float(input(\"Enter the number of units consumed: \"))\n",
    "    if units_consumed < 0:\n",
    "        print(\"Invalid input. Units consumed cannot be negative.\")\n",
    "    else:\n",
    "        bill_amount = calculate_electricity_bill(units_consumed)\n",
    "        print(\"Electricity bill amount: Rs.\", bill_amount)\n",
    "\n",
    "if __name__ == \"__main__\":\n",
    "    main()\n"
   ]
  },
  {
   "cell_type": "markdown",
   "id": "eb12cd2b-b4f5-4454-a45c-4c29819cb7fb",
   "metadata": {},
   "source": [
    "Q4. Create a list of numbers from 1 to 100. Use for loop and while loop to calculate the cube of each\n",
    "number and if the cube of that number is divisible by 4 or 5 then append that number in a list and print\n",
    "that list."
   ]
  },
  {
   "cell_type": "code",
   "execution_count": 5,
   "id": "ac233417-5a0e-43fc-8404-319e305a11d7",
   "metadata": {},
   "outputs": [
    {
     "name": "stdout",
     "output_type": "stream",
     "text": [
      "Numbers whose cube is divisible by 4 or 5 (using for loop): [2, 4, 5, 6, 8, 10, 12, 14, 15, 16, 18, 20, 22, 24, 25, 26, 28, 30, 32, 34, 35, 36, 38, 40, 42, 44, 45, 46, 48, 50, 52, 54, 55, 56, 58, 60, 62, 64, 65, 66, 68, 70, 72, 74, 75, 76, 78, 80, 82, 84, 85, 86, 88, 90, 92, 94, 95, 96, 98, 100]\n",
      "Numbers whose cube is divisible by 4 or 5 (using while loop): [2, 4, 5, 6, 8, 10, 12, 14, 15, 16, 18, 20, 22, 24, 25, 26, 28, 30, 32, 34, 35, 36, 38, 40, 42, 44, 45, 46, 48, 50, 52, 54, 55, 56, 58, 60, 62, 64, 65, 66, 68, 70, 72, 74, 75, 76, 78, 80, 82, 84, 85, 86, 88, 90, 92, 94, 95, 96, 98, 100]\n"
     ]
    }
   ],
   "source": [
    "# Using for loop\n",
    "cubes_divisible_for = []\n",
    "for num in range(1, 101):\n",
    "    cube = num ** 3\n",
    "    if cube % 4 == 0 or cube % 5 == 0:\n",
    "        cubes_divisible_for.append(num)\n",
    "\n",
    "print(\"Numbers whose cube is divisible by 4 or 5 (using for loop):\", cubes_divisible_for)\n",
    "\n",
    "# Using while loop\n",
    "cubes_divisible_while = []\n",
    "num = 1\n",
    "while num <= 100:\n",
    "    cube = num ** 3\n",
    "    if cube % 4 == 0 or cube % 5 == 0:\n",
    "        cubes_divisible_while.append(num)\n",
    "    num += 1\n",
    "\n",
    "print(\"Numbers whose cube is divisible by 4 or 5 (using while loop):\", cubes_divisible_while)\n"
   ]
  },
  {
   "cell_type": "markdown",
   "id": "bbf9f8ab-a92e-4e94-9152-614f9e553fd9",
   "metadata": {},
   "source": [
    "Q5. Write a program to filter count vowels in the below-given string.\n",
    "string = \"I want to become a data scientist\""
   ]
  },
  {
   "cell_type": "code",
   "execution_count": 6,
   "id": "f97956a9-5f8a-4157-8e45-c7f25e0666d1",
   "metadata": {},
   "outputs": [
    {
     "name": "stdout",
     "output_type": "stream",
     "text": [
      "Number of vowels in the string: 12\n"
     ]
    }
   ],
   "source": [
    "# Given string\n",
    "string = \"I want to become a data scientist\"\n",
    "\n",
    "# Function to count vowels\n",
    "def count_vowels(s):\n",
    "    vowels = 'aeiouAEIOU'\n",
    "    count = 0\n",
    "    for char in s:\n",
    "        if char in vowels:\n",
    "            count += 1\n",
    "    return count\n",
    "\n",
    "# Count vowels in the string\n",
    "vowel_count = count_vowels(string)\n",
    "\n",
    "# Output the result\n",
    "print(\"Number of vowels in the string:\", vowel_count)\n"
   ]
  },
  {
   "cell_type": "code",
   "execution_count": null,
   "id": "0546ed00-4384-4e55-b3ff-0c35927d3b27",
   "metadata": {},
   "outputs": [],
   "source": []
  }
 ],
 "metadata": {
  "kernelspec": {
   "display_name": "Python 3 (ipykernel)",
   "language": "python",
   "name": "python3"
  },
  "language_info": {
   "codemirror_mode": {
    "name": "ipython",
    "version": 3
   },
   "file_extension": ".py",
   "mimetype": "text/x-python",
   "name": "python",
   "nbconvert_exporter": "python",
   "pygments_lexer": "ipython3",
   "version": "3.10.8"
  }
 },
 "nbformat": 4,
 "nbformat_minor": 5
}
