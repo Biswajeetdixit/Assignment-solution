{
 "cells": [
  {
   "cell_type": "markdown",
   "id": "22f8eb82-139f-449b-b25d-e39acd79105b",
   "metadata": {},
   "source": [
    "Q1. Explain Class and Object with respect to Object-Oriented Programming. Give a suitable example."
   ]
  },
  {
   "cell_type": "code",
   "execution_count": 1,
   "id": "3157d3c2-562d-479e-a627-c59ddd9ad8cf",
   "metadata": {},
   "outputs": [
    {
     "name": "stdout",
     "output_type": "stream",
     "text": [
      "Starting the Toyota Camry\n",
      "Accelerating the Toyota Camry\n",
      "Applying brakes to Toyota Camry\n",
      "Stopping the Toyota Camry\n",
      "Starting the Honda Accord\n",
      "Accelerating the Honda Accord\n",
      "Applying brakes to Honda Accord\n",
      "Stopping the Honda Accord\n"
     ]
    }
   ],
   "source": [
    "class Car:\n",
    "    def __init__(self, make, model, year, color):\n",
    "        self.make = make\n",
    "        self.model = model\n",
    "        self.year = year\n",
    "        self.color = color\n",
    "        \n",
    "    def start(self):\n",
    "        print(\"Starting the\", self.make, self.model)\n",
    "        \n",
    "    def stop(self):\n",
    "        print(\"Stopping the\", self.make, self.model)\n",
    "        \n",
    "    def accelerate(self):\n",
    "        print(\"Accelerating the\", self.make, self.model)\n",
    "        \n",
    "    def brake(self):\n",
    "        print(\"Applying brakes to\", self.make, self.model)\n",
    "\n",
    "# Creating objects (instances) of the Car class\n",
    "car1 = Car(\"Toyota\", \"Camry\", 2021, \"Red\")\n",
    "car2 = Car(\"Honda\", \"Accord\", 2020, \"Blue\")\n",
    "\n",
    "# Using methods of the Car objects\n",
    "car1.start()\n",
    "car1.accelerate()\n",
    "car1.brake()\n",
    "car1.stop()\n",
    "\n",
    "car2.start()\n",
    "car2.accelerate()\n",
    "car2.brake()\n",
    "car2.stop()\n"
   ]
  },
  {
   "cell_type": "markdown",
   "id": "ae6f4949-5ca4-41ea-a278-4c6f4295ebb4",
   "metadata": {},
   "source": [
    "Q2. Name the four pillars of OOPs."
   ]
  },
  {
   "cell_type": "markdown",
   "id": "b980410d-0644-4414-b1d9-12938ff585cb",
   "metadata": {},
   "source": [
    "Encapsulation: Encapsulation refers to the bundling of data (attributes) and methods (functions) that operate on the data into a single unit or class. It hides the internal state of an object from the outside world and only exposes the necessary interfaces for interacting with the object. Encapsulation helps in achieving data hiding, abstraction, and modularity.\n",
    "\n",
    "Abstraction: Abstraction is the process of simplifying complex systems by representing the relevant properties and behaviors while hiding unnecessary details. It allows us to focus on what an object does rather than how it does it. Abstraction is implemented in OOP through abstract classes, interfaces, and method signatures, which provide a blueprint for defining the structure and behavior of objects without specifying their implementation.\n",
    "\n",
    "Inheritance: Inheritance is the mechanism by which a class (subclass or derived class) can inherit properties and behaviors (attributes and methods) from another class (superclass or base class). It promotes code reuse and allows for the creation of hierarchical relationships between classes. Subclasses can extend the functionality of their superclass by adding new features or overriding existing ones.\n",
    "\n",
    "Polymorphism: Polymorphism allows objects of different classes to be treated as objects of a common superclass. It enables a single interface (method) to be used for objects of different types, providing flexibility and extensibility in object-oriented designs. Polymorphism is achieved through method overriding and method overloading. Method overriding allows a subclass to provide a specific implementation of a method defined in its superclass, while method overloading allows multiple methods with the same name but different parameters to coexist within a class."
   ]
  },
  {
   "cell_type": "markdown",
   "id": "76adadd1-7891-480a-b211-207dcf1a227e",
   "metadata": {},
   "source": [
    "Q3. Explain why the __init__() function is used. Give a suitable example."
   ]
  },
  {
   "cell_type": "code",
   "execution_count": 2,
   "id": "e99eb5dc-1fde-4a32-b7fa-4b96e3b56dd9",
   "metadata": {},
   "outputs": [
    {
     "name": "stdout",
     "output_type": "stream",
     "text": [
      "Name: Alice\n",
      "Age: 30\n",
      "Name: Bob\n",
      "Age: 25\n"
     ]
    }
   ],
   "source": [
    "class Person:\n",
    "    def __init__(self, name, age):\n",
    "        self.name = name\n",
    "        self.age = age\n",
    "    \n",
    "    def display_info(self):\n",
    "        print(\"Name:\", self.name)\n",
    "        print(\"Age:\", self.age)\n",
    "\n",
    "# Create instances of the Person class\n",
    "person1 = Person(\"Alice\", 30)\n",
    "person2 = Person(\"Bob\", 25)\n",
    "\n",
    "# Display information about the persons\n",
    "person1.display_info()\n",
    "person2.display_info()\n"
   ]
  },
  {
   "cell_type": "markdown",
   "id": "fcd018aa-43a3-4cf6-911d-73f89bf7df15",
   "metadata": {},
   "source": [
    "Q4. Why self is used in OOPs?"
   ]
  },
  {
   "cell_type": "code",
   "execution_count": 3,
   "id": "0429ceb5-c396-48d6-9c82-a0aad64880a9",
   "metadata": {},
   "outputs": [
    {
     "name": "stdout",
     "output_type": "stream",
     "text": [
      "Make: Toyota\n",
      "Model: Camry\n"
     ]
    }
   ],
   "source": [
    "class Car:\n",
    "    def __init__(self, make, model):\n",
    "        self.make = make\n",
    "        self.model = model\n",
    "    \n",
    "    def display_info(self):\n",
    "        print(\"Make:\", self.make)\n",
    "        print(\"Model:\", self.model)\n",
    "\n",
    "# Create an instance of the Car class\n",
    "car1 = Car(\"Toyota\", \"Camry\")\n",
    "\n",
    "# Call the display_info() method on the car object\n",
    "car1.display_info()\n"
   ]
  },
  {
   "cell_type": "markdown",
   "id": "07f2f97e-f069-4014-8752-212a44d56229",
   "metadata": {},
   "source": [
    "Q5. What is inheritance? Give an example for each type of inheritance."
   ]
  },
  {
   "cell_type": "code",
   "execution_count": 4,
   "id": "79589ea7-0c63-4d53-8bb4-39a1c5ea8738",
   "metadata": {},
   "outputs": [],
   "source": [
    "class Animal:\n",
    "    def speak(self):\n",
    "        print(\"Animal speaks\")\n",
    "\n",
    "class Dog(Animal):\n",
    "    def bark(self):\n",
    "        print(\"Dog barks\")\n",
    "\n",
    "# Dog inherits from Animal\n"
   ]
  },
  {
   "cell_type": "code",
   "execution_count": 5,
   "id": "cd210753-9daf-4625-831a-b71e9c1f532d",
   "metadata": {},
   "outputs": [],
   "source": [
    "class Parent1:\n",
    "    def method1(self):\n",
    "        print(\"Method 1 from Parent1\")\n",
    "\n",
    "class Parent2:\n",
    "    def method2(self):\n",
    "        print(\"Method 2 from Parent2\")\n",
    "\n",
    "class Child(Parent1, Parent2):\n",
    "    def child_method(self):\n",
    "        print(\"Child method\")\n",
    "\n",
    "# Child inherits from Parent1 and Parent2\n"
   ]
  },
  {
   "cell_type": "code",
   "execution_count": null,
   "id": "783deae1-97e5-4673-8967-bba44a83b324",
   "metadata": {},
   "outputs": [],
   "source": []
  }
 ],
 "metadata": {
  "kernelspec": {
   "display_name": "Python 3 (ipykernel)",
   "language": "python",
   "name": "python3"
  },
  "language_info": {
   "codemirror_mode": {
    "name": "ipython",
    "version": 3
   },
   "file_extension": ".py",
   "mimetype": "text/x-python",
   "name": "python",
   "nbconvert_exporter": "python",
   "pygments_lexer": "ipython3",
   "version": "3.10.8"
  }
 },
 "nbformat": 4,
 "nbformat_minor": 5
}
