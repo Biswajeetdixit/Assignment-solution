{
 "cells": [
  {
   "cell_type": "markdown",
   "id": "12cd50db-2744-4ae8-a11c-2c76d4a4154b",
   "metadata": {},
   "source": [
    "Q1. What is Abstraction in OOps? Explain with an example."
   ]
  },
  {
   "cell_type": "markdown",
   "id": "ef7310b8-0add-473a-9047-0463d2547aa6",
   "metadata": {},
   "source": [
    "Abstraction in object-oriented programming (OOP) is the process of simplifying complex systems by representing the relevant properties and behaviors while hiding unnecessary details. It allows us to focus on what an object does rather than how it does it. Abstraction is achieved by defining abstract classes, interfaces, and method signatures that provide a blueprint for defining the structure and behavior of objects without specifying their implementation details.\n",
    "\n",
    "Here's an explanation of abstraction with an example:\n",
    "\n",
    "Example: Shape Hierarchy\n",
    "\n",
    "Suppose we have a hierarchy of shapes, including circles, rectangles, and triangles. Each shape has common properties such as area and perimeter, as well as common behaviors such as calculating area and perimeter.\n",
    "\n",
    "We can create an abstract class called Shape that serves as a blueprint for all shapes. This abstract class defines abstract methods for calculating area and perimeter without specifying how these methods are implemented. By doing so, we abstract away the implementation details and provide a common interface for all shapes."
   ]
  },
  {
   "cell_type": "markdown",
   "id": "91517512-0e6f-44bb-a513-096c0c061dae",
   "metadata": {},
   "source": [
    "Q2. Differentiate between Abstraction and Encapsulation. Explain with an example."
   ]
  },
  {
   "cell_type": "markdown",
   "id": "e52dd740-5c86-48f3-b21f-3d44fe5ae840",
   "metadata": {},
   "source": [
    "Abstraction is the process of simplifying complex systems by representing the relevant properties and behaviors while hiding unnecessary details. It allows us to focus on what an object does rather than how it does it. Abstraction is achieved by defining abstract classes, interfaces, and method signatures that provide a blueprint for defining the structure and behavior of objects without specifying their implementation details.\n",
    "\n",
    "Example:\n",
    "\n",
    "Suppose we have a hierarchy of vehicles, including cars, trucks, and motorcycles. Each vehicle has common properties such as speed and capacity, as well as common behaviors such as moving and stopping."
   ]
  },
  {
   "cell_type": "markdown",
   "id": "f42ba0e5-461b-4917-89a5-61f2606a14a8",
   "metadata": {},
   "source": [
    "Q3. What is abc module in python? Why is it used?"
   ]
  },
  {
   "cell_type": "markdown",
   "id": "eb0fef0f-e23d-4c88-99b3-890fd828a288",
   "metadata": {},
   "source": [
    "The abc module in Python stands for \"Abstract Base Classes.\" It provides tools for defining abstract base classes and interfaces in Python. Abstract base classes are classes that cannot be instantiated directly but serve as blueprints for other classes. They define a set of methods that must be implemented by subclasses.\n",
    "\n",
    "The abc module is used primarily for two purposes:\n",
    "\n",
    "Defining Abstract Base Classes (ABCs):\n",
    "\n",
    "The abc module provides the ABC class and the abstractmethod decorator, which allow you to define abstract methods within a class. An abstract method is a method that does not have an implementation in the abstract base class but must be implemented by concrete subclasses."
   ]
  },
  {
   "cell_type": "markdown",
   "id": "601fb0a5-7285-4b05-9dcf-81967e21c04c",
   "metadata": {},
   "source": [
    "Q4. How can we achieve data abstraction?"
   ]
  },
  {
   "cell_type": "markdown",
   "id": "01cdb603-46c3-46b7-8543-570490a8f4b8",
   "metadata": {},
   "source": [
    "Data abstraction in programming refers to the process of hiding the implementation details of data while only exposing the essential features or interfaces that are necessary for interacting with the data. It allows users to work with data at a higher level without needing to understand the internal complexities.\n",
    "\n",
    "In Python, we can achieve data abstraction through various mechanisms:\n",
    "\n",
    "Classes and Objects: Encapsulating data and behavior within classes and providing interfaces for interacting with the data. Users interact with objects through methods without needing to know the internal implementation details.\n",
    "\n",
    "Encapsulation: Hiding the internal state of an object and only exposing necessary interfaces for interaction. This is achieved by using access modifiers like private and protected members in classes.\n",
    "\n",
    "Abstract Base Classes (ABCs): Using the abc module to define abstract base classes and abstract methods. Abstract methods define interfaces that must be implemented by concrete subclasses, allowing for a level of abstraction.\n",
    "\n",
    "Interfaces: Defining interfaces that specify a set of methods that classes must implement. This allows different classes to adhere to the same contract or interface without sharing a common base class.\n",
    "\n",
    "Property Decorators: Using property decorators to create properties with getter and setter methods, allowing controlled access to attributes while abstracting away implementation details."
   ]
  },
  {
   "cell_type": "markdown",
   "id": "2d3a575e-11aa-45a6-b3e8-b2f559f4b7cb",
   "metadata": {},
   "source": [
    "Q5. Can we create an instance of an abstract class? Explain your answer."
   ]
  },
  {
   "cell_type": "code",
   "execution_count": null,
   "id": "eb6b5227-59eb-4f02-ad86-047bf12c6bfd",
   "metadata": {},
   "outputs": [],
   "source": []
  }
 ],
 "metadata": {
  "kernelspec": {
   "display_name": "Python 3 (ipykernel)",
   "language": "python",
   "name": "python3"
  },
  "language_info": {
   "codemirror_mode": {
    "name": "ipython",
    "version": 3
   },
   "file_extension": ".py",
   "mimetype": "text/x-python",
   "name": "python",
   "nbconvert_exporter": "python",
   "pygments_lexer": "ipython3",
   "version": "3.10.8"
  }
 },
 "nbformat": 4,
 "nbformat_minor": 5
}
